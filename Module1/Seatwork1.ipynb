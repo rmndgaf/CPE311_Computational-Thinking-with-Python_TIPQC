{
 "cells": [
  {
   "cell_type": "markdown",
   "metadata": {},
   "source": [
    "# Assignment 1.2 Exercise on Computational Thinking\n",
    "For this assignment, students are tasked to write a simple algorithm that can solve a given problem.\n",
    "\n",
    "Problem: \"There is a farmer with a sheep, cabbage and wolf that he must all get across. However, he can only take one at a time. If the farmer leaves the sheep with the cabbage, the sheep eats the cabbage. If the sheep is left with the wolf, the wolf eats the sheep. Create an algorithm to solve this problem.\""
   ]
  },
  {
   "cell_type": "code",
   "execution_count": 22,
   "metadata": {},
   "outputs": [],
   "source": [
    "from random import randint\n",
    "\n",
    "# Using a functional programming approach\n",
    "# List down the characters available\n",
    "characters = [\"wolf\", \"sheep\", \"cabbage\"]\n",
    "\n",
    "# Create the function\n",
    "safe = []\n",
    "def sequenceOver(characters, safeList = []):\n",
    "    j = 0\n",
    "    for i in characters:\n",
    "        characters[j] = str(i).lower()\n",
    "        j += 1\n",
    "\n",
    "    # Pick the first character provided\n",
    "    while True:\n",
    "        if not characters:\n",
    "            break\n",
    "        \n",
    "        choice = str(characters[0]).lower()\n",
    "        print(\"Farmer picked up: \", choice)\n",
    "\n",
    "        # Remove choice from characters\n",
    "        characters.remove(choice)\n",
    "        print(characters)\n",
    "\n",
    "        # Check the remaining combinations\n",
    "        if \"wolf\" in characters and \"sheep\" in characters:\n",
    "            characters.append(choice)\n",
    "        elif \"sheep\" in characters and \"cabbage\" in characters:\n",
    "            characters.append(choice)\n",
    "        else:\n",
    "            safeList.append(choice)\n",
    "\n",
    "    for i in safeList:\n",
    "        print(i)"
   ]
  },
  {
   "cell_type": "code",
   "execution_count": 23,
   "metadata": {},
   "outputs": [
    {
     "name": "stdout",
     "output_type": "stream",
     "text": [
      "Farmer picked up:  wolf\n",
      "['sheep', 'cabbage']\n",
      "Farmer picked up:  sheep\n",
      "['cabbage', 'wolf']\n",
      "Farmer picked up:  cabbage\n",
      "['wolf']\n",
      "Farmer picked up:  wolf\n",
      "[]\n",
      "sheep\n",
      "cabbage\n",
      "wolf\n"
     ]
    }
   ],
   "source": [
    "game = [\"wolf\", \"ShEeP\", \"CaBBage\"]\n",
    "\n",
    "sequenceOver(game)"
   ]
  },
  {
   "cell_type": "code",
   "execution_count": null,
   "metadata": {},
   "outputs": [],
   "source": []
  }
 ],
 "metadata": {
  "kernelspec": {
   "display_name": "base",
   "language": "python",
   "name": "python3"
  },
  "language_info": {
   "codemirror_mode": {
    "name": "ipython",
    "version": 3
   },
   "file_extension": ".py",
   "mimetype": "text/x-python",
   "name": "python",
   "nbconvert_exporter": "python",
   "pygments_lexer": "ipython3",
   "version": "3.9.12"
  }
 },
 "nbformat": 4,
 "nbformat_minor": 2
}
